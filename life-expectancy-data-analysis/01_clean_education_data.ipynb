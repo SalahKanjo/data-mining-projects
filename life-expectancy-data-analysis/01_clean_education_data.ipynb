{
 "cells": [
  {
   "cell_type": "markdown",
   "metadata": {},
   "source": [
    "# Introduction  \n",
    "This notebook focuses on cleaning and processing two datasets:\n",
    "1. **Eduction Data**: Data provided by UN about education enrollments.\n",
    "\n",
    "The goal of this notebook is to:\n",
    "- Load and explore the data.\n",
    "- Clean and preprocess the data.\n",
    "- Perform basic analyses and visualization.\n",
    "- Prepare the data for further exploration or modeling."
   ]
  },
  {
   "cell_type": "markdown",
   "metadata": {},
   "source": [
    "# Loading and Cleaning Data"
   ]
  },
  {
   "cell_type": "code",
   "execution_count": 490,
   "metadata": {},
   "outputs": [],
   "source": [
    "import pandas as pd\n",
    "import numpy as np\n",
    "\n",
    "education_data = pd.read_csv('data/raw/un-education-data.csv', encoding='ISO-8859-1')\n",
    "#public_expenditure_data = pd.read_csv('un-raw-data/public-expenditure-on-education-and-access-to-computers.csv', encoding='ISO-8859-1')"
   ]
  },
  {
   "cell_type": "code",
   "execution_count": 491,
   "metadata": {},
   "outputs": [
    {
     "name": "stdout",
     "output_type": "stream",
     "text": [
      "<class 'pandas.core.frame.DataFrame'>\n",
      "RangeIndex: 7531 entries, 0 to 7530\n",
      "Data columns (total 7 columns):\n",
      " #   Column                                                                       Non-Null Count  Dtype \n",
      "---  ------                                                                       --------------  ----- \n",
      " 0   T07                                                                          7531 non-null   object\n",
      " 1   Enrollment in primary, lower secondary and upper secondary education levels  7530 non-null   object\n",
      " 2   Unnamed: 2                                                                   7531 non-null   object\n",
      " 3   Unnamed: 3                                                                   7531 non-null   object\n",
      " 4   Unnamed: 4                                                                   7531 non-null   object\n",
      " 5   Unnamed: 5                                                                   654 non-null    object\n",
      " 6   Unnamed: 6                                                                   7531 non-null   object\n",
      "dtypes: object(7)\n",
      "memory usage: 412.0+ KB\n"
     ]
    }
   ],
   "source": [
    "education_data.info()\n",
    "#public_expenditure_data.info()"
   ]
  },
  {
   "cell_type": "markdown",
   "metadata": {},
   "source": [
    "First we see that there is an issue with the columns, which has to be fiexed."
   ]
  },
  {
   "cell_type": "code",
   "execution_count": 492,
   "metadata": {},
   "outputs": [
    {
     "data": {
      "text/html": [
       "<div>\n",
       "<style scoped>\n",
       "    .dataframe tbody tr th:only-of-type {\n",
       "        vertical-align: middle;\n",
       "    }\n",
       "\n",
       "    .dataframe tbody tr th {\n",
       "        vertical-align: top;\n",
       "    }\n",
       "\n",
       "    .dataframe thead th {\n",
       "        text-align: right;\n",
       "    }\n",
       "</style>\n",
       "<table border=\"1\" class=\"dataframe\">\n",
       "  <thead>\n",
       "    <tr style=\"text-align: right;\">\n",
       "      <th></th>\n",
       "      <th>T07</th>\n",
       "      <th>Enrollment in primary, lower secondary and upper secondary education levels</th>\n",
       "      <th>Unnamed: 2</th>\n",
       "      <th>Unnamed: 3</th>\n",
       "      <th>Unnamed: 4</th>\n",
       "      <th>Unnamed: 5</th>\n",
       "      <th>Unnamed: 6</th>\n",
       "    </tr>\n",
       "  </thead>\n",
       "  <tbody>\n",
       "    <tr>\n",
       "      <th>0</th>\n",
       "      <td>Region/Country/Area</td>\n",
       "      <td>NaN</td>\n",
       "      <td>Year</td>\n",
       "      <td>Series</td>\n",
       "      <td>Value</td>\n",
       "      <td>Footnotes</td>\n",
       "      <td>Source</td>\n",
       "    </tr>\n",
       "    <tr>\n",
       "      <th>1</th>\n",
       "      <td>1</td>\n",
       "      <td>Total, all countries or areas</td>\n",
       "      <td>2005</td>\n",
       "      <td>Students enrolled in primary education (thousa...</td>\n",
       "      <td>678,907</td>\n",
       "      <td>Estimate.</td>\n",
       "      <td>United Nations Educational, Scientific and Cul...</td>\n",
       "    </tr>\n",
       "    <tr>\n",
       "      <th>2</th>\n",
       "      <td>1</td>\n",
       "      <td>Total, all countries or areas</td>\n",
       "      <td>2005</td>\n",
       "      <td>Gross enrollment ratio - Primary (male)</td>\n",
       "      <td>104.5</td>\n",
       "      <td>Estimate.</td>\n",
       "      <td>United Nations Educational, Scientific and Cul...</td>\n",
       "    </tr>\n",
       "    <tr>\n",
       "      <th>3</th>\n",
       "      <td>1</td>\n",
       "      <td>Total, all countries or areas</td>\n",
       "      <td>2005</td>\n",
       "      <td>Gross enrollment ratio - Primary (female)</td>\n",
       "      <td>99.7</td>\n",
       "      <td>NaN</td>\n",
       "      <td>United Nations Educational, Scientific and Cul...</td>\n",
       "    </tr>\n",
       "    <tr>\n",
       "      <th>4</th>\n",
       "      <td>1</td>\n",
       "      <td>Total, all countries or areas</td>\n",
       "      <td>2005</td>\n",
       "      <td>Students enrolled in lower secondary education...</td>\n",
       "      <td>309,665</td>\n",
       "      <td>NaN</td>\n",
       "      <td>United Nations Educational, Scientific and Cul...</td>\n",
       "    </tr>\n",
       "  </tbody>\n",
       "</table>\n",
       "</div>"
      ],
      "text/plain": [
       "                   T07  \\\n",
       "0  Region/Country/Area   \n",
       "1                    1   \n",
       "2                    1   \n",
       "3                    1   \n",
       "4                    1   \n",
       "\n",
       "  Enrollment in primary, lower secondary and upper secondary education levels  \\\n",
       "0                                                NaN                            \n",
       "1                      Total, all countries or areas                            \n",
       "2                      Total, all countries or areas                            \n",
       "3                      Total, all countries or areas                            \n",
       "4                      Total, all countries or areas                            \n",
       "\n",
       "  Unnamed: 2                                         Unnamed: 3 Unnamed: 4  \\\n",
       "0       Year                                             Series      Value   \n",
       "1       2005  Students enrolled in primary education (thousa...    678,907   \n",
       "2       2005            Gross enrollment ratio - Primary (male)      104.5   \n",
       "3       2005          Gross enrollment ratio - Primary (female)       99.7   \n",
       "4       2005  Students enrolled in lower secondary education...    309,665   \n",
       "\n",
       "  Unnamed: 5                                         Unnamed: 6  \n",
       "0  Footnotes                                             Source  \n",
       "1  Estimate.  United Nations Educational, Scientific and Cul...  \n",
       "2  Estimate.  United Nations Educational, Scientific and Cul...  \n",
       "3        NaN  United Nations Educational, Scientific and Cul...  \n",
       "4        NaN  United Nations Educational, Scientific and Cul...  "
      ]
     },
     "execution_count": 492,
     "metadata": {},
     "output_type": "execute_result"
    }
   ],
   "source": [
    "education_data.head()"
   ]
  },
  {
   "cell_type": "code",
   "execution_count": 493,
   "metadata": {},
   "outputs": [
    {
     "data": {
      "text/html": [
       "<div>\n",
       "<style scoped>\n",
       "    .dataframe tbody tr th:only-of-type {\n",
       "        vertical-align: middle;\n",
       "    }\n",
       "\n",
       "    .dataframe tbody tr th {\n",
       "        vertical-align: top;\n",
       "    }\n",
       "\n",
       "    .dataframe thead th {\n",
       "        text-align: right;\n",
       "    }\n",
       "</style>\n",
       "<table border=\"1\" class=\"dataframe\">\n",
       "  <thead>\n",
       "    <tr style=\"text-align: right;\">\n",
       "      <th></th>\n",
       "      <th>Number</th>\n",
       "      <th>Region_Country_Area</th>\n",
       "      <th>Year</th>\n",
       "      <th>Series</th>\n",
       "      <th>Value</th>\n",
       "      <th>Footnotes</th>\n",
       "      <th>Source</th>\n",
       "    </tr>\n",
       "  </thead>\n",
       "  <tbody>\n",
       "    <tr>\n",
       "      <th>0</th>\n",
       "      <td>1</td>\n",
       "      <td>Total, all countries or areas</td>\n",
       "      <td>2005</td>\n",
       "      <td>Students enrolled in primary education (thousa...</td>\n",
       "      <td>678,907</td>\n",
       "      <td>Estimate.</td>\n",
       "      <td>United Nations Educational, Scientific and Cul...</td>\n",
       "    </tr>\n",
       "    <tr>\n",
       "      <th>1</th>\n",
       "      <td>1</td>\n",
       "      <td>Total, all countries or areas</td>\n",
       "      <td>2005</td>\n",
       "      <td>Gross enrollment ratio - Primary (male)</td>\n",
       "      <td>104.5</td>\n",
       "      <td>Estimate.</td>\n",
       "      <td>United Nations Educational, Scientific and Cul...</td>\n",
       "    </tr>\n",
       "    <tr>\n",
       "      <th>2</th>\n",
       "      <td>1</td>\n",
       "      <td>Total, all countries or areas</td>\n",
       "      <td>2005</td>\n",
       "      <td>Gross enrollment ratio - Primary (female)</td>\n",
       "      <td>99.7</td>\n",
       "      <td>NaN</td>\n",
       "      <td>United Nations Educational, Scientific and Cul...</td>\n",
       "    </tr>\n",
       "    <tr>\n",
       "      <th>3</th>\n",
       "      <td>1</td>\n",
       "      <td>Total, all countries or areas</td>\n",
       "      <td>2005</td>\n",
       "      <td>Students enrolled in lower secondary education...</td>\n",
       "      <td>309,665</td>\n",
       "      <td>NaN</td>\n",
       "      <td>United Nations Educational, Scientific and Cul...</td>\n",
       "    </tr>\n",
       "    <tr>\n",
       "      <th>4</th>\n",
       "      <td>1</td>\n",
       "      <td>Total, all countries or areas</td>\n",
       "      <td>2005</td>\n",
       "      <td>Gross enrollment ratio - Lower secondary level...</td>\n",
       "      <td>80.7</td>\n",
       "      <td>NaN</td>\n",
       "      <td>United Nations Educational, Scientific and Cul...</td>\n",
       "    </tr>\n",
       "  </tbody>\n",
       "</table>\n",
       "</div>"
      ],
      "text/plain": [
       "  Number            Region_Country_Area  Year  \\\n",
       "0      1  Total, all countries or areas  2005   \n",
       "1      1  Total, all countries or areas  2005   \n",
       "2      1  Total, all countries or areas  2005   \n",
       "3      1  Total, all countries or areas  2005   \n",
       "4      1  Total, all countries or areas  2005   \n",
       "\n",
       "                                              Series    Value  Footnotes  \\\n",
       "0  Students enrolled in primary education (thousa...  678,907  Estimate.   \n",
       "1            Gross enrollment ratio - Primary (male)    104.5  Estimate.   \n",
       "2          Gross enrollment ratio - Primary (female)     99.7        NaN   \n",
       "3  Students enrolled in lower secondary education...  309,665        NaN   \n",
       "4  Gross enrollment ratio - Lower secondary level...     80.7        NaN   \n",
       "\n",
       "                                              Source  \n",
       "0  United Nations Educational, Scientific and Cul...  \n",
       "1  United Nations Educational, Scientific and Cul...  \n",
       "2  United Nations Educational, Scientific and Cul...  \n",
       "3  United Nations Educational, Scientific and Cul...  \n",
       "4  United Nations Educational, Scientific and Cul...  "
      ]
     },
     "execution_count": 493,
     "metadata": {},
     "output_type": "execute_result"
    }
   ],
   "source": [
    "education_data_cleaning = education_data.drop(index=0)\n",
    "education_data_cleaning.columns = ['Number', 'Region_Country_Area', 'Year', 'Series', 'Value', 'Footnotes', 'Source']\n",
    "education_data_cleaning.reset_index(drop=True, inplace=True)\n",
    "#education_data_cleaning.to_csv('cleaned_education_data.csv', index=False)\n",
    "education_data_cleaning.head()"
   ]
  },
  {
   "cell_type": "code",
   "execution_count": 494,
   "metadata": {},
   "outputs": [
    {
     "name": "stdout",
     "output_type": "stream",
     "text": [
      "Index(['Number', 'Region_Country_Area', 'Year', 'Series', 'Value', 'Footnotes',\n",
      "       'Source'],\n",
      "      dtype='object')\n"
     ]
    }
   ],
   "source": [
    "#droping columns since some entrys of a columns are idenctical and not importent\n",
    "print(education_data_cleaning.columns)\n",
    "education_data_cleaning.drop(columns= ['Source'], inplace=True)"
   ]
  },
  {
   "cell_type": "code",
   "execution_count": 495,
   "metadata": {},
   "outputs": [
    {
     "name": "stdout",
     "output_type": "stream",
     "text": [
      "<class 'pandas.core.frame.DataFrame'>\n",
      "RangeIndex: 7530 entries, 0 to 7529\n",
      "Data columns (total 6 columns):\n",
      " #   Column               Non-Null Count  Dtype \n",
      "---  ------               --------------  ----- \n",
      " 0   Number               7530 non-null   object\n",
      " 1   Region_Country_Area  7530 non-null   object\n",
      " 2   Year                 7530 non-null   object\n",
      " 3   Series               7530 non-null   object\n",
      " 4   Value                7530 non-null   object\n",
      " 5   Footnotes            653 non-null    object\n",
      "dtypes: object(6)\n",
      "memory usage: 353.1+ KB\n"
     ]
    },
    {
     "data": {
      "text/html": [
       "<div>\n",
       "<style scoped>\n",
       "    .dataframe tbody tr th:only-of-type {\n",
       "        vertical-align: middle;\n",
       "    }\n",
       "\n",
       "    .dataframe tbody tr th {\n",
       "        vertical-align: top;\n",
       "    }\n",
       "\n",
       "    .dataframe thead th {\n",
       "        text-align: right;\n",
       "    }\n",
       "</style>\n",
       "<table border=\"1\" class=\"dataframe\">\n",
       "  <thead>\n",
       "    <tr style=\"text-align: right;\">\n",
       "      <th></th>\n",
       "      <th>Number</th>\n",
       "      <th>Region_Country_Area</th>\n",
       "      <th>Year</th>\n",
       "      <th>Series</th>\n",
       "      <th>Value</th>\n",
       "      <th>Footnotes</th>\n",
       "    </tr>\n",
       "  </thead>\n",
       "  <tbody>\n",
       "    <tr>\n",
       "      <th>0</th>\n",
       "      <td>1</td>\n",
       "      <td>Total, all countries or areas</td>\n",
       "      <td>2005</td>\n",
       "      <td>Students enrolled in primary education (thousa...</td>\n",
       "      <td>678,907</td>\n",
       "      <td>Estimate.</td>\n",
       "    </tr>\n",
       "    <tr>\n",
       "      <th>1</th>\n",
       "      <td>1</td>\n",
       "      <td>Total, all countries or areas</td>\n",
       "      <td>2005</td>\n",
       "      <td>Gross enrollment ratio - Primary (male)</td>\n",
       "      <td>104.5</td>\n",
       "      <td>Estimate.</td>\n",
       "    </tr>\n",
       "    <tr>\n",
       "      <th>2</th>\n",
       "      <td>1</td>\n",
       "      <td>Total, all countries or areas</td>\n",
       "      <td>2005</td>\n",
       "      <td>Gross enrollment ratio - Primary (female)</td>\n",
       "      <td>99.7</td>\n",
       "      <td>NaN</td>\n",
       "    </tr>\n",
       "    <tr>\n",
       "      <th>3</th>\n",
       "      <td>1</td>\n",
       "      <td>Total, all countries or areas</td>\n",
       "      <td>2005</td>\n",
       "      <td>Students enrolled in lower secondary education...</td>\n",
       "      <td>309,665</td>\n",
       "      <td>NaN</td>\n",
       "    </tr>\n",
       "    <tr>\n",
       "      <th>4</th>\n",
       "      <td>1</td>\n",
       "      <td>Total, all countries or areas</td>\n",
       "      <td>2005</td>\n",
       "      <td>Gross enrollment ratio - Lower secondary level...</td>\n",
       "      <td>80.7</td>\n",
       "      <td>NaN</td>\n",
       "    </tr>\n",
       "  </tbody>\n",
       "</table>\n",
       "</div>"
      ],
      "text/plain": [
       "  Number            Region_Country_Area  Year  \\\n",
       "0      1  Total, all countries or areas  2005   \n",
       "1      1  Total, all countries or areas  2005   \n",
       "2      1  Total, all countries or areas  2005   \n",
       "3      1  Total, all countries or areas  2005   \n",
       "4      1  Total, all countries or areas  2005   \n",
       "\n",
       "                                              Series    Value  Footnotes  \n",
       "0  Students enrolled in primary education (thousa...  678,907  Estimate.  \n",
       "1            Gross enrollment ratio - Primary (male)    104.5  Estimate.  \n",
       "2          Gross enrollment ratio - Primary (female)     99.7        NaN  \n",
       "3  Students enrolled in lower secondary education...  309,665        NaN  \n",
       "4  Gross enrollment ratio - Lower secondary level...     80.7        NaN  "
      ]
     },
     "execution_count": 495,
     "metadata": {},
     "output_type": "execute_result"
    }
   ],
   "source": [
    "education_data_cleaning.info()\n",
    "education_data_cleaning.head()"
   ]
  },
  {
   "cell_type": "markdown",
   "metadata": {},
   "source": [
    "### Changing data typs"
   ]
  },
  {
   "cell_type": "code",
   "execution_count": 496,
   "metadata": {},
   "outputs": [
    {
     "name": "stdout",
     "output_type": "stream",
     "text": [
      "<class 'pandas.core.frame.DataFrame'>\n",
      "RangeIndex: 7530 entries, 0 to 7529\n",
      "Data columns (total 6 columns):\n",
      " #   Column               Non-Null Count  Dtype  \n",
      "---  ------               --------------  -----  \n",
      " 0   Number               7530 non-null   object \n",
      " 1   Region_Country_Area  7530 non-null   string \n",
      " 2   Year                 7530 non-null   int64  \n",
      " 3   Series               7530 non-null   object \n",
      " 4   Value                7530 non-null   float64\n",
      " 5   Footnotes            653 non-null    object \n",
      "dtypes: float64(1), int64(1), object(3), string(1)\n",
      "memory usage: 353.1+ KB\n"
     ]
    }
   ],
   "source": [
    "education_data_cleaning['Year'] = pd.to_numeric(education_data_cleaning['Year'], errors= 'coerce')\n",
    "education_data_cleaning['Value'] = education_data_cleaning['Value'].replace({',': ''}, regex = True)\n",
    "education_data_cleaning['Value'] = pd.to_numeric(education_data_cleaning['Value'], errors='coerce')\n",
    "education_data_cleaning['Region_Country_Area'] = education_data_cleaning['Region_Country_Area'].astype('string')\n",
    "education_data_cleaning.info()"
   ]
  },
  {
   "cell_type": "markdown",
   "metadata": {},
   "source": [
    "Check for duplicates"
   ]
  },
  {
   "cell_type": "code",
   "execution_count": 497,
   "metadata": {},
   "outputs": [
    {
     "name": "stdout",
     "output_type": "stream",
     "text": [
      "Empty DataFrame\n",
      "Columns: [Number, Region_Country_Area, Year, Series, Value, Footnotes]\n",
      "Index: []\n"
     ]
    }
   ],
   "source": [
    "duplicate_rows = education_data_cleaning[education_data_cleaning.duplicated()]\n",
    "print(duplicate_rows)"
   ]
  },
  {
   "cell_type": "markdown",
   "metadata": {},
   "source": [
    "Check missing data or incorrect entries"
   ]
  },
  {
   "cell_type": "code",
   "execution_count": 498,
   "metadata": {},
   "outputs": [
    {
     "name": "stdout",
     "output_type": "stream",
     "text": [
      "Number                    0\n",
      "Region_Country_Area       0\n",
      "Year                      0\n",
      "Series                    0\n",
      "Value                     0\n",
      "Footnotes              6877\n",
      "dtype: int64\n"
     ]
    }
   ],
   "source": [
    "missing_data = education_data_cleaning.isnull().sum()\n",
    "print(missing_data)"
   ]
  },
  {
   "cell_type": "code",
   "execution_count": 499,
   "metadata": {},
   "outputs": [
    {
     "name": "stdout",
     "output_type": "stream",
     "text": [
      "['Estimate.' nan]\n"
     ]
    }
   ],
   "source": [
    "unique_footnotes = education_data_cleaning['Footnotes'].unique()\n",
    "print(unique_footnotes)"
   ]
  },
  {
   "cell_type": "code",
   "execution_count": 500,
   "metadata": {},
   "outputs": [],
   "source": [
    "education_data_cleaning = education_data_cleaning.copy()\n",
    "education_data_cleaning['Footnotes'] = education_data_cleaning['Footnotes'].fillna('Empty-Field.')"
   ]
  },
  {
   "cell_type": "code",
   "execution_count": 501,
   "metadata": {},
   "outputs": [
    {
     "data": {
      "text/html": [
       "<div>\n",
       "<style scoped>\n",
       "    .dataframe tbody tr th:only-of-type {\n",
       "        vertical-align: middle;\n",
       "    }\n",
       "\n",
       "    .dataframe tbody tr th {\n",
       "        vertical-align: top;\n",
       "    }\n",
       "\n",
       "    .dataframe thead th {\n",
       "        text-align: right;\n",
       "    }\n",
       "</style>\n",
       "<table border=\"1\" class=\"dataframe\">\n",
       "  <thead>\n",
       "    <tr style=\"text-align: right;\">\n",
       "      <th></th>\n",
       "      <th>Number</th>\n",
       "      <th>Region_Country_Area</th>\n",
       "      <th>Year</th>\n",
       "      <th>Series</th>\n",
       "      <th>Value</th>\n",
       "      <th>Footnotes</th>\n",
       "    </tr>\n",
       "  </thead>\n",
       "  <tbody>\n",
       "    <tr>\n",
       "      <th>0</th>\n",
       "      <td>1</td>\n",
       "      <td>Total, all countries or areas</td>\n",
       "      <td>2005</td>\n",
       "      <td>Students enrolled in primary education (thousa...</td>\n",
       "      <td>678907.0</td>\n",
       "      <td>Estimate.</td>\n",
       "    </tr>\n",
       "    <tr>\n",
       "      <th>1</th>\n",
       "      <td>1</td>\n",
       "      <td>Total, all countries or areas</td>\n",
       "      <td>2005</td>\n",
       "      <td>Gross enrollment ratio - Primary (male)</td>\n",
       "      <td>104.5</td>\n",
       "      <td>Estimate.</td>\n",
       "    </tr>\n",
       "    <tr>\n",
       "      <th>2</th>\n",
       "      <td>1</td>\n",
       "      <td>Total, all countries or areas</td>\n",
       "      <td>2005</td>\n",
       "      <td>Gross enrollment ratio - Primary (female)</td>\n",
       "      <td>99.7</td>\n",
       "      <td>Empty-Field.</td>\n",
       "    </tr>\n",
       "    <tr>\n",
       "      <th>3</th>\n",
       "      <td>1</td>\n",
       "      <td>Total, all countries or areas</td>\n",
       "      <td>2005</td>\n",
       "      <td>Students enrolled in lower secondary education...</td>\n",
       "      <td>309665.0</td>\n",
       "      <td>Empty-Field.</td>\n",
       "    </tr>\n",
       "    <tr>\n",
       "      <th>4</th>\n",
       "      <td>1</td>\n",
       "      <td>Total, all countries or areas</td>\n",
       "      <td>2005</td>\n",
       "      <td>Gross enrollment ratio - Lower secondary level...</td>\n",
       "      <td>80.7</td>\n",
       "      <td>Empty-Field.</td>\n",
       "    </tr>\n",
       "    <tr>\n",
       "      <th>5</th>\n",
       "      <td>1</td>\n",
       "      <td>Total, all countries or areas</td>\n",
       "      <td>2005</td>\n",
       "      <td>Gross enrollment ratio - Lower secondary level...</td>\n",
       "      <td>76.7</td>\n",
       "      <td>Empty-Field.</td>\n",
       "    </tr>\n",
       "    <tr>\n",
       "      <th>6</th>\n",
       "      <td>1</td>\n",
       "      <td>Total, all countries or areas</td>\n",
       "      <td>2005</td>\n",
       "      <td>Students enrolled in upper secondary education...</td>\n",
       "      <td>199767.0</td>\n",
       "      <td>Empty-Field.</td>\n",
       "    </tr>\n",
       "    <tr>\n",
       "      <th>7</th>\n",
       "      <td>1</td>\n",
       "      <td>Total, all countries or areas</td>\n",
       "      <td>2005</td>\n",
       "      <td>Gross enrollment ratio - Upper secondary level...</td>\n",
       "      <td>51.2</td>\n",
       "      <td>Empty-Field.</td>\n",
       "    </tr>\n",
       "    <tr>\n",
       "      <th>8</th>\n",
       "      <td>1</td>\n",
       "      <td>Total, all countries or areas</td>\n",
       "      <td>2005</td>\n",
       "      <td>Gross enrollment ratio - Upper secondary level...</td>\n",
       "      <td>48.3</td>\n",
       "      <td>Empty-Field.</td>\n",
       "    </tr>\n",
       "    <tr>\n",
       "      <th>9</th>\n",
       "      <td>1</td>\n",
       "      <td>Total, all countries or areas</td>\n",
       "      <td>2010</td>\n",
       "      <td>Students enrolled in primary education (thousa...</td>\n",
       "      <td>697253.0</td>\n",
       "      <td>Empty-Field.</td>\n",
       "    </tr>\n",
       "    <tr>\n",
       "      <th>10</th>\n",
       "      <td>1</td>\n",
       "      <td>Total, all countries or areas</td>\n",
       "      <td>2010</td>\n",
       "      <td>Gross enrollment ratio - Primary (male)</td>\n",
       "      <td>104.0</td>\n",
       "      <td>Empty-Field.</td>\n",
       "    </tr>\n",
       "    <tr>\n",
       "      <th>11</th>\n",
       "      <td>1</td>\n",
       "      <td>Total, all countries or areas</td>\n",
       "      <td>2010</td>\n",
       "      <td>Gross enrollment ratio - Primary (female)</td>\n",
       "      <td>101.3</td>\n",
       "      <td>Empty-Field.</td>\n",
       "    </tr>\n",
       "    <tr>\n",
       "      <th>12</th>\n",
       "      <td>1</td>\n",
       "      <td>Total, all countries or areas</td>\n",
       "      <td>2010</td>\n",
       "      <td>Students enrolled in lower secondary education...</td>\n",
       "      <td>315613.0</td>\n",
       "      <td>Empty-Field.</td>\n",
       "    </tr>\n",
       "    <tr>\n",
       "      <th>13</th>\n",
       "      <td>1</td>\n",
       "      <td>Total, all countries or areas</td>\n",
       "      <td>2010</td>\n",
       "      <td>Gross enrollment ratio - Lower secondary level...</td>\n",
       "      <td>83.6</td>\n",
       "      <td>Empty-Field.</td>\n",
       "    </tr>\n",
       "    <tr>\n",
       "      <th>14</th>\n",
       "      <td>1</td>\n",
       "      <td>Total, all countries or areas</td>\n",
       "      <td>2010</td>\n",
       "      <td>Gross enrollment ratio - Lower secondary level...</td>\n",
       "      <td>81.3</td>\n",
       "      <td>Empty-Field.</td>\n",
       "    </tr>\n",
       "    <tr>\n",
       "      <th>15</th>\n",
       "      <td>1</td>\n",
       "      <td>Total, all countries or areas</td>\n",
       "      <td>2010</td>\n",
       "      <td>Students enrolled in upper secondary education...</td>\n",
       "      <td>230863.0</td>\n",
       "      <td>Empty-Field.</td>\n",
       "    </tr>\n",
       "    <tr>\n",
       "      <th>16</th>\n",
       "      <td>1</td>\n",
       "      <td>Total, all countries or areas</td>\n",
       "      <td>2010</td>\n",
       "      <td>Gross enrollment ratio - Upper secondary level...</td>\n",
       "      <td>61.0</td>\n",
       "      <td>Empty-Field.</td>\n",
       "    </tr>\n",
       "    <tr>\n",
       "      <th>17</th>\n",
       "      <td>1</td>\n",
       "      <td>Total, all countries or areas</td>\n",
       "      <td>2010</td>\n",
       "      <td>Gross enrollment ratio - Upper secondary level...</td>\n",
       "      <td>58.5</td>\n",
       "      <td>Empty-Field.</td>\n",
       "    </tr>\n",
       "    <tr>\n",
       "      <th>18</th>\n",
       "      <td>1</td>\n",
       "      <td>Total, all countries or areas</td>\n",
       "      <td>2015</td>\n",
       "      <td>Students enrolled in primary education (thousa...</td>\n",
       "      <td>719714.0</td>\n",
       "      <td>Empty-Field.</td>\n",
       "    </tr>\n",
       "    <tr>\n",
       "      <th>19</th>\n",
       "      <td>1</td>\n",
       "      <td>Total, all countries or areas</td>\n",
       "      <td>2015</td>\n",
       "      <td>Gross enrollment ratio - Primary (male)</td>\n",
       "      <td>102.4</td>\n",
       "      <td>Empty-Field.</td>\n",
       "    </tr>\n",
       "  </tbody>\n",
       "</table>\n",
       "</div>"
      ],
      "text/plain": [
       "   Number            Region_Country_Area  Year  \\\n",
       "0       1  Total, all countries or areas  2005   \n",
       "1       1  Total, all countries or areas  2005   \n",
       "2       1  Total, all countries or areas  2005   \n",
       "3       1  Total, all countries or areas  2005   \n",
       "4       1  Total, all countries or areas  2005   \n",
       "5       1  Total, all countries or areas  2005   \n",
       "6       1  Total, all countries or areas  2005   \n",
       "7       1  Total, all countries or areas  2005   \n",
       "8       1  Total, all countries or areas  2005   \n",
       "9       1  Total, all countries or areas  2010   \n",
       "10      1  Total, all countries or areas  2010   \n",
       "11      1  Total, all countries or areas  2010   \n",
       "12      1  Total, all countries or areas  2010   \n",
       "13      1  Total, all countries or areas  2010   \n",
       "14      1  Total, all countries or areas  2010   \n",
       "15      1  Total, all countries or areas  2010   \n",
       "16      1  Total, all countries or areas  2010   \n",
       "17      1  Total, all countries or areas  2010   \n",
       "18      1  Total, all countries or areas  2015   \n",
       "19      1  Total, all countries or areas  2015   \n",
       "\n",
       "                                               Series     Value     Footnotes  \n",
       "0   Students enrolled in primary education (thousa...  678907.0     Estimate.  \n",
       "1             Gross enrollment ratio - Primary (male)     104.5     Estimate.  \n",
       "2           Gross enrollment ratio - Primary (female)      99.7  Empty-Field.  \n",
       "3   Students enrolled in lower secondary education...  309665.0  Empty-Field.  \n",
       "4   Gross enrollment ratio - Lower secondary level...      80.7  Empty-Field.  \n",
       "5   Gross enrollment ratio - Lower secondary level...      76.7  Empty-Field.  \n",
       "6   Students enrolled in upper secondary education...  199767.0  Empty-Field.  \n",
       "7   Gross enrollment ratio - Upper secondary level...      51.2  Empty-Field.  \n",
       "8   Gross enrollment ratio - Upper secondary level...      48.3  Empty-Field.  \n",
       "9   Students enrolled in primary education (thousa...  697253.0  Empty-Field.  \n",
       "10            Gross enrollment ratio - Primary (male)     104.0  Empty-Field.  \n",
       "11          Gross enrollment ratio - Primary (female)     101.3  Empty-Field.  \n",
       "12  Students enrolled in lower secondary education...  315613.0  Empty-Field.  \n",
       "13  Gross enrollment ratio - Lower secondary level...      83.6  Empty-Field.  \n",
       "14  Gross enrollment ratio - Lower secondary level...      81.3  Empty-Field.  \n",
       "15  Students enrolled in upper secondary education...  230863.0  Empty-Field.  \n",
       "16  Gross enrollment ratio - Upper secondary level...      61.0  Empty-Field.  \n",
       "17  Gross enrollment ratio - Upper secondary level...      58.5  Empty-Field.  \n",
       "18  Students enrolled in primary education (thousa...  719714.0  Empty-Field.  \n",
       "19            Gross enrollment ratio - Primary (male)     102.4  Empty-Field.  "
      ]
     },
     "execution_count": 501,
     "metadata": {},
     "output_type": "execute_result"
    }
   ],
   "source": [
    "education_data_cleaning.head(20)"
   ]
  },
  {
   "cell_type": "code",
   "execution_count": 502,
   "metadata": {},
   "outputs": [
    {
     "name": "stdout",
     "output_type": "stream",
     "text": [
      "<StringArray>\n",
      "['Total, all countries or areas',               'Northern Africa',\n",
      "            'Sub-Saharan Africa',              'Northern America',\n",
      " 'Latin America & the Caribbean',                  'Central Asia',\n",
      "                  'Eastern Asia',            'South-eastern Asia',\n",
      "                 'Southern Asia',                  'Western Asia',\n",
      " ...\n",
      "                    'Uzbekistan',                       'Vanuatu',\n",
      "    'Venezuela (Boliv. Rep. of)',                      'Viet Nam',\n",
      "                         'Yemen',                        'Zambia',\n",
      "                      'Zimbabwe',                         'LLDCs',\n",
      "                           'LDC',                          'SIDS']\n",
      "Length: 226, dtype: string\n"
     ]
    }
   ],
   "source": [
    "unique_region_country = education_data_cleaning['Region_Country_Area'].unique()\n",
    "print(unique_region_country)\n",
    "education_data_cleaning.to_csv(\"test.csv\", index= False)"
   ]
  },
  {
   "cell_type": "markdown",
   "metadata": {},
   "source": [
    "Name of some countries are not in correct format or is incorrect. "
   ]
  },
  {
   "cell_type": "markdown",
   "metadata": {},
   "source": [
    "## Check and Correct Country Names"
   ]
  },
  {
   "cell_type": "code",
   "execution_count": 503,
   "metadata": {},
   "outputs": [
    {
     "name": "stdout",
     "output_type": "stream",
     "text": [
      "0            Afghanistan\n",
      "1          Åland Islands\n",
      "2                Albania\n",
      "3                Algeria\n",
      "4         American Samoa\n",
      "             ...        \n",
      "244    Wallis and Futuna\n",
      "245       Western Sahara\n",
      "246                Yemen\n",
      "247               Zambia\n",
      "248             Zimbabwe\n",
      "Name: name, Length: 249, dtype: string\n"
     ]
    }
   ],
   "source": [
    "country_data = pd.read_csv(\"data/other/country-names-iso3166.csv\")\n",
    "country_data.head()\n",
    "valid_country_names = country_data['name'].astype('string')\n",
    "print(valid_country_names)"
   ]
  },
  {
   "cell_type": "code",
   "execution_count": 504,
   "metadata": {},
   "outputs": [],
   "source": [
    "import re\n",
    "def clean_country_name(name):\n",
    "    # Replace § with an empty string\n",
    "    name = name.replace(\"§\", \"\")\n",
    "    # Remove content in parentheses (e.g., \"(Plurin. State of)\")\n",
    "    #name = re.sub(r\"\\s*\\(.*?\\)\", \"\", name)\n",
    "    # Strip extra whitespace\n",
    "    name = name.strip()\n",
    "    return name"
   ]
  },
  {
   "cell_type": "code",
   "execution_count": 505,
   "metadata": {},
   "outputs": [
    {
     "name": "stdout",
     "output_type": "stream",
     "text": [
      "incorrect country names or unkown region found\n",
      "['Bolivia (Plurin. State of)', \"Cote d'Ivoire\", 'Curacao', \"Dem. People's Rep. Korea\", 'Dem. Rep. of the Congo', 'Iran (Islamic Republic of)', \"Lao People's Dem. Rep.\", 'Micronesia (Fed. States of)', 'Netherlands (Kingdom of the)', 'Republic of Korea', 'Republic of Moldova', 'Saint Vincent & Grenadines', 'State of Palestine', 'Sudan [former]', 'Turkiye', 'United Kingdom', 'United Rep. of Tanzania', 'Venezuela (Boliv. Rep. of)']\n",
      "['Afghanistan', 'Åland Islands', 'Albania', 'Algeria', 'American Samoa', 'Andorra', 'Angola', 'Anguilla', 'Antarctica', 'Antigua and Barbuda', 'Argentina', 'Armenia', 'Aruba', 'Australia', 'Austria', 'Azerbaijan', 'Bahamas', 'Bahrain', 'Bangladesh', 'Barbados', 'Belarus', 'Belgium', 'Belize', 'Benin', 'Bermuda', 'Bhutan', 'Bolivia, Plurinational State of', 'Bonaire, Sint Eustatius and Saba', 'Bosnia and Herzegovina', 'Botswana', 'Bouvet Island', 'Brazil', 'British Indian Ocean Territory', 'Brunei Darussalam', 'Bulgaria', 'Burkina Faso', 'Burundi', 'Cabo Verde', 'Cambodia', 'Cameroon', 'Canada', 'Cayman Islands', 'Central African Republic', 'Chad', 'Chile', 'China', 'Christmas Island', 'Cocos (Keeling) Islands', 'Colombia', 'Comoros', 'Congo', 'Congo, Democratic Republic of the', 'Cook Islands', 'Costa Rica', \"Côte d'Ivoire\", 'Croatia', 'Cuba', 'Curaçao', 'Cyprus', 'Czechia', 'Denmark', 'Djibouti', 'Dominica', 'Dominican Republic', 'Ecuador', 'Egypt', 'El Salvador', 'Equatorial Guinea', 'Eritrea', 'Estonia', 'Eswatini', 'Ethiopia', 'Falkland Islands (Malvinas)', 'Faroe Islands', 'Fiji', 'Finland', 'France', 'French Guiana', 'French Polynesia', 'French Southern Territories', 'Gabon', 'Gambia', 'Georgia', 'Germany', 'Ghana', 'Gibraltar', 'Greece', 'Greenland', 'Grenada', 'Guadeloupe', 'Guam', 'Guatemala', 'Guernsey', 'Guinea', 'Guinea-Bissau', 'Guyana', 'Haiti', 'Heard Island and McDonald Islands', 'Holy See', 'Honduras', 'Hong Kong', 'Hungary', 'Iceland', 'India', 'Indonesia', 'Iran, Islamic Republic of', 'Iraq', 'Ireland', 'Isle of Man', 'Israel', 'Italy', 'Jamaica', 'Japan', 'Jersey', 'Jordan', 'Kazakhstan', 'Kenya', 'Kiribati', \"Korea, Democratic People's Republic of\", 'Korea, Republic of', 'Kuwait', 'Kyrgyzstan', \"Lao People's Democratic Republic\", 'Latvia', 'Lebanon', 'Lesotho', 'Liberia', 'Libya', 'Liechtenstein', 'Lithuania', 'Luxembourg', 'Macao', 'Madagascar', 'Malawi', 'Malaysia', 'Maldives', 'Mali', 'Malta', 'Marshall Islands', 'Martinique', 'Mauritania', 'Mauritius', 'Mayotte', 'Mexico', 'Micronesia, Federated States of', 'Moldova, Republic of', 'Monaco', 'Mongolia', 'Montenegro', 'Montserrat', 'Morocco', 'Mozambique', 'Myanmar', 'Namibia', 'Nauru', 'Nepal', 'Netherlands, Kingdom of the', 'New Caledonia', 'New Zealand', 'Nicaragua', 'Niger', 'Nigeria', 'Niue', 'Norfolk Island', 'North Macedonia', 'Northern Mariana Islands', 'Norway', 'Oman', 'Pakistan', 'Palau', 'Palestine, State of', 'Panama', 'Papua New Guinea', 'Paraguay', 'Peru', 'Philippines', 'Pitcairn', 'Poland', 'Portugal', 'Puerto Rico', 'Qatar', 'Réunion', 'Romania', 'Russian Federation', 'Rwanda', 'Saint Barthélemy', 'Saint Helena, Ascension and Tristan da Cunha', 'Saint Kitts and Nevis', 'Saint Lucia', 'Saint Martin (French part)', 'Saint Pierre and Miquelon', 'Saint Vincent and the Grenadines', 'Samoa', 'San Marino', 'Sao Tome and Principe', 'Saudi Arabia', 'Senegal', 'Serbia', 'Seychelles', 'Sierra Leone', 'Singapore', 'Sint Maarten (Dutch part)', 'Slovakia', 'Slovenia', 'Solomon Islands', 'Somalia', 'South Africa', 'South Georgia and the South Sandwich Islands', 'South Sudan', 'Spain', 'Sri Lanka', 'Sudan', 'Suriname', 'Svalbard and Jan Mayen', 'Sweden', 'Switzerland', 'Syrian Arab Republic', 'Taiwan, Province of China', 'Tajikistan', 'Tanzania, United Republic of', 'Thailand', 'Timor-Leste', 'Togo', 'Tokelau', 'Tonga', 'Trinidad and Tobago', 'Tunisia', 'Türkiye', 'Turkmenistan', 'Turks and Caicos Islands', 'Tuvalu', 'Uganda', 'Ukraine', 'United Arab Emirates', 'United Kingdom of Great Britain and Northern Ireland', 'United States of America', 'United States Minor Outlying Islands', 'Uruguay', 'Uzbekistan', 'Vanuatu', 'Venezuela, Bolivarian Republic of', 'Viet Nam', 'Virgin Islands (British)', 'Virgin Islands (U.S.)', 'Wallis and Futuna', 'Western Sahara', 'Yemen', 'Zambia', 'Zimbabwe']\n"
     ]
    }
   ],
   "source": [
    "# There are areas and regions, wich are not defined or containd in the iso3166. Therefor a list containing those names are created to avoid cheching them.\n",
    "predefined_areas_and_regions = [\n",
    "    \"Total, all countries or areas\", \"Northern Africa\", \"Sub-Saharan Africa\",\n",
    "    \"Northern America\", \"Latin America & the Caribbean\", \"Central Asia\",\n",
    "    \"Eastern Asia\", \"South-eastern Asia\", \"Southern Asia\", \"Western Asia\",\n",
    "    \"Europe\", \"Oceania\", \"LLDCs\", \"LDC\", \"SIDS\", \"Australia and New Zealand\",\n",
    "    \"British Virgin Islands\", \"China, Hong Kong SAR\", \"China, Macao SAR\",\n",
    "]\n",
    "# Correct specific known mismatches\n",
    "name_corrections = {\n",
    "    \"Bolivia (Plurin. State of)\": \"Bolivia, Plurinational State of\",\n",
    "    \"Dem. People's Rep. Korea\": \"Korea, Democratic People's Republic of\",\n",
    "    \"United Kingdom\": \"United Kingdom of Great Britain and Northern Ireland\",\n",
    "}\n",
    "education_data_cleaning[\"Region_Country_Area\"] = education_data_cleaning[\"Region_Country_Area\"].apply(clean_country_name)\n",
    "unique_region_country = education_data_cleaning[\"Region_Country_Area\"].unique()\n",
    "# Striping whitespace from both lists\n",
    "unique_region_country = [country.strip() for country in unique_region_country]\n",
    "valid_country_names = [country.strip() for country in valid_country_names]\n",
    "\n",
    "incorrect_country_names = []\n",
    "for country in unique_region_country:\n",
    "    if not (country in valid_country_names or country in predefined_areas_and_regions):\n",
    "        incorrect_country_names.append(country)\n",
    "\n",
    "education_data_cleaning['Region_Country_Area'] = education_data_cleaning['Region_Country_Area'].replace(name_corrections)\n",
    "if not (incorrect_country_names):\n",
    "    print(\"correct country names\")\n",
    "else:\n",
    "    print(\"incorrect country names or unkown region found\")\n",
    "    print(incorrect_country_names)\n",
    "    print(valid_country_names)"
   ]
  },
  {
   "cell_type": "markdown",
   "metadata": {},
   "source": [
    "We see above that there are names which does not match exaclty in both datasets but both are correct. We can here ignore them"
   ]
  },
  {
   "cell_type": "markdown",
   "metadata": {},
   "source": [
    "## Find Possible Outliers"
   ]
  },
  {
   "cell_type": "code",
   "execution_count": 506,
   "metadata": {},
   "outputs": [
    {
     "name": "stdout",
     "output_type": "stream",
     "text": [
      "No negative values found\n"
     ]
    }
   ],
   "source": [
    "negative_values = education_data_cleaning[education_data_cleaning[\"Value\"] < 0]\n",
    "if not (negative_values.isnull):\n",
    "    print(\"Negative values found\")\n",
    "else:\n",
    "    print(\"No negative values found\")"
   ]
  },
  {
   "cell_type": "markdown",
   "metadata": {},
   "source": [
    "countinue..."
   ]
  },
  {
   "cell_type": "markdown",
   "metadata": {},
   "source": []
  }
 ],
 "metadata": {
  "kernelspec": {
   "display_name": "Python 3",
   "language": "python",
   "name": "python3"
  },
  "language_info": {
   "codemirror_mode": {
    "name": "ipython",
    "version": 3
   },
   "file_extension": ".py",
   "mimetype": "text/x-python",
   "name": "python",
   "nbconvert_exporter": "python",
   "pygments_lexer": "ipython3",
   "version": "3.12.7"
  }
 },
 "nbformat": 4,
 "nbformat_minor": 2
}
